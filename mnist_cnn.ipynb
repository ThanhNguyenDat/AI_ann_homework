{
  "nbformat": 4,
  "nbformat_minor": 0,
  "metadata": {
    "colab": {
      "name": "mnist_cnn.ipynb",
      "provenance": [],
      "collapsed_sections": []
    },
    "kernelspec": {
      "name": "python3",
      "display_name": "Python 3"
    },
    "language_info": {
      "name": "python"
    },
    "accelerator": "GPU"
  },
  "cells": [
    {
      "cell_type": "code",
      "source": [
        "import numpy as np                 \n",
        "import matplotlib.pyplot as plt    \n",
        "import random                      \n",
        "\n",
        "from keras.datasets import mnist   \n",
        "from keras.models import Sequential\n",
        "import tensorflow as tf\n",
        "import keras\n",
        "from keras.layers.core import Dense, Dropout, Activation\n",
        "from keras.utils import np_utils                        "
      ],
      "metadata": {
        "id": "Z-KLh3T3jaEK"
      },
      "execution_count": 1,
      "outputs": []
    },
    {
      "cell_type": "code",
      "source": [
        "(X_train, y_train), (X_test, y_test) = mnist.load_data()\n",
        "\n",
        "print(\"X_train shape\", X_train.shape)\n",
        "print(\"y_train shape\", y_train.shape)\n",
        "print(\"X_test shape\", X_test.shape)\n",
        "print(\"y_test shape\", y_test.shape)"
      ],
      "metadata": {
        "colab": {
          "base_uri": "https://localhost:8080/"
        },
        "id": "3qHar6mlnuRR",
        "outputId": "bd67ca7e-03b1-410c-8191-8777b3358717"
      },
      "execution_count": 2,
      "outputs": [
        {
          "output_type": "stream",
          "name": "stdout",
          "text": [
            "Downloading data from https://storage.googleapis.com/tensorflow/tf-keras-datasets/mnist.npz\n",
            "11493376/11490434 [==============================] - 0s 0us/step\n",
            "11501568/11490434 [==============================] - 0s 0us/step\n",
            "X_train shape (60000, 28, 28)\n",
            "y_train shape (60000,)\n",
            "X_test shape (10000, 28, 28)\n",
            "y_test shape (10000,)\n"
          ]
        }
      ]
    },
    {
      "cell_type": "code",
      "source": [
        "plt.rcParams['figure.figsize'] = (9,9) \n",
        "\n",
        "for i in range(9):\n",
        "    plt.subplot(3,3,i+1)\n",
        "    num = random.randint(0, len(X_train))\n",
        "    plt.imshow(X_train[num], cmap='gray', interpolation='none')\n",
        "    plt.title(\"Class {}\".format(y_train[num]))\n",
        "    \n",
        "plt.tight_layout()"
      ],
      "metadata": {
        "colab": {
          "base_uri": "https://localhost:8080/",
          "height": 657
        },
        "id": "UQuKRVixoBXA",
        "outputId": "9423bd3a-47e1-41e3-d022-008e4479d13e"
      },
      "execution_count": 3,
      "outputs": [
        {
          "output_type": "display_data",
          "data": {
            "text/plain": [
              "<Figure size 648x648 with 9 Axes>"
            ],
            "image/png": "[encoded data removed]"
          },
          "metadata": {
            "needs_background": "light"
          }
        }
      ]
    },
    {
      "cell_type": "code",
      "source": [
        "# X_train = X_train.reshape(60000, 784) \n",
        "# X_test = X_test.reshape(10000, 784)   \n",
        "\n",
        "X_train = X_train.astype('float32')   \n",
        "X_test = X_test.astype('float32')\n",
        "\n",
        "X_train /= 255                        \n",
        "X_test /= 255\n",
        "\n",
        "print(\"Training matrix shape\", X_train.shape)\n",
        "print(\"Testing matrix shape\", X_test.shape)"
      ],
      "metadata": {
        "colab": {
          "base_uri": "https://localhost:8080/"
        },
        "id": "SE1ww7WUsYVf",
        "outputId": "faf45a42-1f42-45cf-ed6a-e16647a29b26"
      },
      "execution_count": 4,
      "outputs": [
        {
          "output_type": "stream",
          "name": "stdout",
          "text": [
            "Training matrix shape (60000, 28, 28)\n",
            "Testing matrix shape (10000, 28, 28)\n"
          ]
        }
      ]
    },
    {
      "cell_type": "code",
      "source": [
        "nb_classes = 10 # number of unique digits\n",
        "\n",
        "Y_train = np_utils.to_categorical(y_train, nb_classes)\n",
        "Y_test = np_utils.to_categorical(y_test, nb_classes)"
      ],
      "metadata": {
        "id": "icKuXW0zsbh5"
      },
      "execution_count": 5,
      "outputs": []
    },
    {
      "cell_type": "code",
      "source": [
        "# The Sequential model is a linear stack of layers and is very common.\n",
        "from tensorflow.keras.layers import Conv2D, MaxPooling2D, Flatten, Dense\n",
        "\n",
        "model = Sequential()\n",
        "model.add(Conv2D(32,(3,3), activation = 'relu', kernel_initializer = 'he_uniform', padding = 'same', input_shape=(28,28,1)))\n",
        "model.add(Conv2D(32,(3,3), activation = 'relu', kernel_initializer = 'he_uniform', padding = 'same'))\n",
        "model.add(MaxPooling2D((2,2)))\n",
        "model.add(Dropout(0.25))\n",
        "\n",
        "model.add(Conv2D(64,(3,3), activation = 'relu', kernel_initializer = 'he_uniform', padding = 'same'))\n",
        "model.add(MaxPooling2D((2,2)))\n",
        "model.add(Dropout(0.5))\n",
        "\n",
        "model.add(Flatten())\n",
        "model.add(Dense(32, activation = 'relu'))\n",
        "model.add(Dropout(0.5))\n",
        "model.add(Dense(10,activation='softmax'))\n",
        "model.summary()\n"
      ],
      "metadata": {
        "colab": {
          "base_uri": "https://localhost:8080/"
        },
        "id": "d6ptR-uAk217",
        "outputId": "4b329acd-408d-4179-94f6-4ddbfb4c6d42"
      },
      "execution_count": 12,
      "outputs": [
        {
          "output_type": "stream",
          "name": "stdout",
          "text": [
            "Model: \"sequential_1\"\n",
            "_________________________________________________________________\n",
            " Layer (type)                Output Shape              Param #   \n",
            "=================================================================\n",
            " conv2d_3 (Conv2D)           (None, 28, 28, 32)        320       \n",
            "                                                                 \n",
            " conv2d_4 (Conv2D)           (None, 28, 28, 32)        9248      \n",
            "                                                                 \n",
            " max_pooling2d_2 (MaxPooling  (None, 14, 14, 32)       0         \n",
            " 2D)                                                             \n",
            "                                                                 \n",
            " dropout_3 (Dropout)         (None, 14, 14, 32)        0         \n",
            "                                                                 \n",
            " conv2d_5 (Conv2D)           (None, 14, 14, 64)        18496     \n",
            "                                                                 \n",
            " max_pooling2d_3 (MaxPooling  (None, 7, 7, 64)         0         \n",
            " 2D)                                                             \n",
            "                                                                 \n",
            " dropout_4 (Dropout)         (None, 7, 7, 64)          0         \n",
            "                                                                 \n",
            " flatten_1 (Flatten)         (None, 3136)              0         \n",
            "                                                                 \n",
            " dense_2 (Dense)             (None, 32)                100384    \n",
            "                                                                 \n",
            " dropout_5 (Dropout)         (None, 32)                0         \n",
            "                                                                 \n",
            " dense_3 (Dense)             (None, 10)                330       \n",
            "                                                                 \n",
            "=================================================================\n",
            "Total params: 128,778\n",
            "Trainable params: 128,778\n",
            "Non-trainable params: 0\n",
            "_________________________________________________________________\n"
          ]
        }
      ]
    },
    {
      "cell_type": "code",
      "source": [
        "model.compile(loss='categorical_crossentropy', optimizer='adam', metrics=['accuracy'])\n",
        "\n",
        "hist = model.fit(X_train, Y_train,\n",
        "          batch_size=128, epochs=20, validation_split=0.2,\n",
        "          verbose=1)"
      ],
      "metadata": {
        "colab": {
          "base_uri": "https://localhost:8080/"
        },
        "id": "80SxII_uoIOV",
        "outputId": "ebd507f1-91f4-4b65-b0da-b0f9920eabd5"
      },
      "execution_count": 13,
      "outputs": [
        {
          "output_type": "stream",
          "name": "stdout",
          "text": [
            "Epoch 1/20\n",
            "375/375 [==============================] - 4s 9ms/step - loss: 0.9028 - accuracy: 0.6779 - val_loss: 0.1186 - val_accuracy: 0.9690\n",
            "Epoch 2/20\n",
            "375/375 [==============================] - 4s 10ms/step - loss: 0.4120 - accuracy: 0.8561 - val_loss: 0.0760 - val_accuracy: 0.9785\n",
            "Epoch 3/20\n",
            "375/375 [==============================] - 3s 9ms/step - loss: 0.3033 - accuracy: 0.8974 - val_loss: 0.0566 - val_accuracy: 0.9838\n",
            "Epoch 4/20\n",
            "375/375 [==============================] - 3s 9ms/step - loss: 0.2588 - accuracy: 0.9114 - val_loss: 0.0459 - val_accuracy: 0.9872\n",
            "Epoch 5/20\n",
            "375/375 [==============================] - 4s 10ms/step - loss: 0.2364 - accuracy: 0.9180 - val_loss: 0.0429 - val_accuracy: 0.9878\n",
            "Epoch 6/20\n",
            "375/375 [==============================] - 4s 10ms/step - loss: 0.2136 - accuracy: 0.9254 - val_loss: 0.0420 - val_accuracy: 0.9877\n",
            "Epoch 7/20\n",
            "375/375 [==============================] - 3s 9ms/step - loss: 0.2080 - accuracy: 0.9280 - val_loss: 0.0412 - val_accuracy: 0.9885\n",
            "Epoch 8/20\n",
            "375/375 [==============================] - 3s 9ms/step - loss: 0.1983 - accuracy: 0.9311 - val_loss: 0.0386 - val_accuracy: 0.9894\n",
            "Epoch 9/20\n",
            "375/375 [==============================] - 3s 9ms/step - loss: 0.1893 - accuracy: 0.9346 - val_loss: 0.0374 - val_accuracy: 0.9893\n",
            "Epoch 10/20\n",
            "375/375 [==============================] - 3s 9ms/step - loss: 0.1794 - accuracy: 0.9372 - val_loss: 0.0359 - val_accuracy: 0.9902\n",
            "Epoch 11/20\n",
            "375/375 [==============================] - 4s 10ms/step - loss: 0.1733 - accuracy: 0.9411 - val_loss: 0.0349 - val_accuracy: 0.9898\n",
            "Epoch 12/20\n",
            "375/375 [==============================] - 4s 10ms/step - loss: 0.1673 - accuracy: 0.9417 - val_loss: 0.0333 - val_accuracy: 0.9911\n",
            "Epoch 13/20\n",
            "375/375 [==============================] - 5s 13ms/step - loss: 0.1656 - accuracy: 0.9424 - val_loss: 0.0328 - val_accuracy: 0.9907\n",
            "Epoch 14/20\n",
            "375/375 [==============================] - 5s 13ms/step - loss: 0.1568 - accuracy: 0.9453 - val_loss: 0.0347 - val_accuracy: 0.9902\n",
            "Epoch 15/20\n",
            "375/375 [==============================] - 3s 9ms/step - loss: 0.1547 - accuracy: 0.9479 - val_loss: 0.0326 - val_accuracy: 0.9911\n",
            "Epoch 16/20\n",
            "375/375 [==============================] - 3s 9ms/step - loss: 0.1502 - accuracy: 0.9484 - val_loss: 0.0343 - val_accuracy: 0.9911\n",
            "Epoch 17/20\n",
            "375/375 [==============================] - 4s 9ms/step - loss: 0.1500 - accuracy: 0.9468 - val_loss: 0.0351 - val_accuracy: 0.9907\n",
            "Epoch 18/20\n",
            "375/375 [==============================] - 4s 10ms/step - loss: 0.1499 - accuracy: 0.9479 - val_loss: 0.0314 - val_accuracy: 0.9909\n",
            "Epoch 19/20\n",
            "375/375 [==============================] - 3s 9ms/step - loss: 0.1407 - accuracy: 0.9511 - val_loss: 0.0319 - val_accuracy: 0.9912\n",
            "Epoch 20/20\n",
            "375/375 [==============================] - 4s 10ms/step - loss: 0.1359 - accuracy: 0.9518 - val_loss: 0.0327 - val_accuracy: 0.9915\n"
          ]
        }
      ]
    },
    {
      "cell_type": "code",
      "source": [
        "plt.plot(hist.history['accuracy'])\n",
        "plt.plot(hist.history['val_accuracy'])\n",
        "plt.title('Model accuracy')\n",
        "plt.ylabel('Accuracy')\n",
        "plt.xlabel('Epoch')\n",
        "plt.legend(['Train','Validation'],loc='upper_left')\n",
        "plt.show()"
      ],
      "metadata": {
        "colab": {
          "base_uri": "https://localhost:8080/",
          "height": 810
        },
        "id": "Of-miWhmcELN",
        "outputId": "8038ee11-7698-493a-b39c-8c32b5f8d851"
      },
      "execution_count": 14,
      "outputs": [
        {
          "output_type": "stream",
          "name": "stderr",
          "text": [
            "/usr/local/lib/python3.7/dist-packages/ipykernel_launcher.py:6: MatplotlibDeprecationWarning: Unrecognized location 'upper_left'. Falling back on 'best'; valid locations are\n",
            "\tbest\n",
            "\tupper right\n",
            "\tupper left\n",
            "\tlower left\n",
            "\tlower right\n",
            "\tright\n",
            "\tcenter left\n",
            "\tcenter right\n",
            "\tlower center\n",
            "\tupper center\n",
            "\tcenter\n",
            "This will raise an exception in 3.3.\n",
            "  \n"
          ]
        },
        {
          "output_type": "display_data",
          "data": {
            "text/plain": [
              "<Figure size 648x648 with 1 Axes>"
            ],
            "image/png": "[encoded data removed]"
          },
          "metadata": {
            "needs_background": "light"
          }
        }
      ]
    },
    {
      "cell_type": "code",
      "source": [
        ""
      ],
      "metadata": {
        "id": "Z5I8tS7kcEVH"
      },
      "execution_count": null,
      "outputs": []
    }
  ]
}